{
 "cells": [
  {
   "cell_type": "markdown",
   "metadata": {},
   "source": [
    "## [作業目標]\n",
    "了解機器學習適合應用的領域與範疇。"
   ]
  },
  {
   "cell_type": "markdown",
   "metadata": {},
   "source": [
    "## [作業重點]\n",
    "透過瞭解機器學習的運作方式，找出非常適用機器學習應用的領域及其原因"
   ]
  },
  {
   "cell_type": "markdown",
   "metadata": {},
   "source": [
    "## 作業\n",
    "請找出一個你認為機器學習可以發光發熱的領域並闡述原因? \n",
    "\n",
    "我認為科技始於人性，哪裡出現新的需求，那裡就會有新科技出現，所以機器學習可以運用的地方，我相信一定不只我所想的那幾項而已。<br>\n",
    "<font size=\"3\"><b>醫學影像辨識：</b></font><br>\n",
    "    &emsp;&emsp;從影像辨識來說，現今社會的臉部辨識已經漸漸普遍，像是iphone的FaceID；或是更進階的Deepfake，透過操作人臉圖項技術將既定的影片或照片做修改，而來達成偽造影片的目的等。<br>\n",
    "    &emsp;&emsp;那如果將影像辨識技術用在醫學方面，用機器學習來替代醫生判讀影像，例如：通常一位病人如果需要照一次肺部電腦斷層掃描或腦部核磁共振造影，就會產生上百張影像，醫生需要從那上百張影像中找出病因，而準確率也會因為疲勞度而下降，但如果運用機器學習來替代人工檢查，不僅會減少判讀影像的時間，更可以維持準確率。"
   ]
  },
  {
   "cell_type": "code",
   "execution_count": null,
   "metadata": {},
   "outputs": [],
   "source": [
    "   "
   ]
  }
 ],
 "metadata": {
  "kernelspec": {
   "display_name": "Python 3",
   "language": "python",
   "name": "python3"
  },
  "language_info": {
   "codemirror_mode": {
    "name": "ipython",
    "version": 3
   },
   "file_extension": ".py",
   "mimetype": "text/x-python",
   "name": "python",
   "nbconvert_exporter": "python",
   "pygments_lexer": "ipython3",
   "version": "3.7.6"
  }
 },
 "nbformat": 4,
 "nbformat_minor": 2
}
