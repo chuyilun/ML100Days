{
 "cells": [
  {
   "cell_type": "markdown",
   "metadata": {},
   "source": [
    "## 練習時間\n",
    "#### 請寫一個函式用來計算 Mean Square Error\n",
    "$ MSE = \\frac{1}{n}\\sum_{i=1}^{n}{(Y_i - \\hat{Y}_i)^2} $\n",
    "\n",
    "### Hint: [如何取平方](https://googoodesign.gitbooks.io/-ezpython/unit-1.html)"
   ]
  },
  {
   "cell_type": "markdown",
   "metadata": {},
   "source": [
    "# [作業目標]\n",
    "- 仿造範例的MAE函數, 自己寫一個MSE函數(參考上面公式)"
   ]
  },
  {
   "cell_type": "markdown",
   "metadata": {},
   "source": [
    "# [作業重點]\n",
    "- 注意程式的縮排\n",
    "- 是否能將數學公式, 轉換為 Python 的函式組合? (In[2], Out[2])"
   ]
  },
  {
   "cell_type": "code",
   "execution_count": 4,
   "metadata": {},
   "outputs": [],
   "source": [
    "# 載入基礎套件與代稱\n",
    "import numpy as np\n",
    "import matplotlib.pyplot as plt"
   ]
  },
  {
   "cell_type": "code",
   "execution_count": 5,
   "metadata": {},
   "outputs": [],
   "source": [
    "def mean_absolute_error(y, yp):\n",
    "    \"\"\"\n",
    "    計算 MAE\n",
    "    Args:\n",
    "        - y: 實際值\n",
    "        - yp: 預測值\n",
    "    Return:\n",
    "        - mae: MAE\n",
    "    \"\"\"\n",
    "    mae = MAE = sum(abs(y - yp)) / len(y)\n",
    "    return mae\n",
    "\n",
    "# 定義 mean_squared_error 這個函數, 計算並傳回 MSE\n",
    "def mean_squared_error(y, yp):\n",
    "    return sum((y - yp)**2)/len(y)"
   ]
  },
  {
   "cell_type": "code",
   "execution_count": 6,
   "metadata": {},
   "outputs": [
    {
     "data": {
      "image/png": "[encoded data removed]",
      "text/plain": [
       "<Figure size 432x288 with 1 Axes>"
      ]
     },
     "metadata": {
      "needs_background": "light"
     },
     "output_type": "display_data"
    }
   ],
   "source": [
    "# 與範例相同, 不另外解說\n",
    "w = 3\n",
    "b = 0.5\n",
    "x_lin = np.linspace(0, 100, 101)\n",
    "y = (x_lin + np.random.randn(101) * 5) * w + b\n",
    "\n",
    "plt.plot(x_lin, y, 'b.', label = 'data points')\n",
    "plt.title(\"Assume we have data points\")\n",
    "plt.legend(loc = 2)\n",
    "plt.show()"
   ]
  },
  {
   "cell_type": "code",
   "execution_count": 7,
   "metadata": {},
   "outputs": [
    {
     "data": {
      "image/png": "[encoded data removed]",
      "text/plain": [
       "<Figure size 432x288 with 1 Axes>"
      ]
     },
     "metadata": {
      "needs_background": "light"
     },
     "output_type": "display_data"
    }
   ],
   "source": [
    "# 與範例相同, 不另外解說\n",
    "y_hat = x_lin * w + b\n",
    "plt.plot(x_lin, y, 'b.', label = 'data')\n",
    "plt.plot(x_lin, y_hat, 'r-', label = 'prediction')\n",
    "plt.title(\"Assume we have data points (And the prediction)\")\n",
    "plt.legend(loc = 2)\n",
    "plt.show()"
   ]
  },
  {
   "cell_type": "code",
   "execution_count": 8,
   "metadata": {},
   "outputs": [
    {
     "name": "stdout",
     "output_type": "stream",
     "text": [
      "The Mean squared error is 209.725\n",
      "The Mean absolute error is 11.809\n"
     ]
    }
   ],
   "source": [
    "# 執行 Function, 確認有沒有正常執行\n",
    "MSE = mean_squared_error(y, y_hat)\n",
    "MAE = mean_absolute_error(y, y_hat)\n",
    "print(\"The Mean squared error is %.3f\" % (MSE))\n",
    "print(\"The Mean absolute error is %.3f\" % (MAE))"
   ]
  },
  {
   "cell_type": "markdown",
   "metadata": {},
   "source": [
    "# [作業2]\n",
    "\n",
    "請上 Kaggle, 在 Competitions 或 Dataset 中找一組競賽或資料並寫下：<br>\n",
    "Competitionl:https://www.kaggle.com/c/competitive-data-science-predict-future-sales/overview/description\n",
    "\n",
    "<font size=\"3\"><b>1. 你選的這組資料為何重要</b></font><br>\n",
    "    對公司來說擁有精準的銷售預測，可以調動銷售人員的積極性，讓位居最前線的人員體使提早做好準備，擁有更完備的策略去吸引消費著購買。<br>\n",
    "    另外公司也可以根據預測，安排生產，避免產品積壓。<br>\n",
    "\n",
    "<font size=\"3\"><b>2. 資料從何而來 (tips: 譬如提供者是誰、以什麼方式蒐集)</b></font><br>\n",
    "    每日銷售數據集是由俄羅斯軟體公司1C COMPANY提供<br>\n",
    "\n",
    "<font size=\"3\"><b>3. 蒐集而來的資料型態為何</b></font><br>\n",
    "    均為csv檔<br>\n",
    "\n",
    "<font size=\"3\"><b>4. 這組資料想解決的問題如何評估</b></font><br>\n",
    "    了解每家商店每日售出商品，以及隨時間變化商店和產品的改變。\n",
    "\n",
    "# [作業3]\n",
    "\n",
    "想像你經營一個自由載客車隊，你希望能透過數據分析以提升業績，請你思考並描述你如何規劃整體的分析/解決方案：\n",
    "\n",
    "<font size=\"3\"><b>1. 核心問題為何 (tips：如何定義 「提升業績 & 你的假設」)</b></font><br>\n",
    "    我認為核心問題應該是載客時段及載客地點的搭配<br>\n",
    "    例如：在下課下班時，在學校或公司大樓附近載客的成功率會較高；在學生放長假時，在學校及車站等地點的載客成功率也會相對較高。\n",
    "\n",
    "<font size=\"3\"><b>2. 資料從何而來 (tips：哪些資料可能會對你想問的問題產生影響 & 資料如何蒐集)</b></font><br>\n",
    "    UBER 載客紀錄或各營業計程車隊管理的紙本或數位資料或觀光局旅客人數<br>\n",
    "    車流以及人流分析，紀錄現有的客人上下車位置以及時間分析熱門時段地點\n",
    "\n",
    "<font size=\"3\"><b>3. 蒐集而來的資料型態為何</b></font><br>\n",
    "    結構化資料: 數值、類別資料<br>\n",
    "    可能為csv或json檔\n",
    "\n",
    "<font size=\"3\"><b>4. 你要回答的問題，其如何評估 (tips：你的假設如何驗證)</b></font><br>\n",
    "    可以利用回歸模型預測哪些地點在哪個特定的時段最熱門，合理派出適當數量的車去載客，減少不必要的損失<br>\n",
    "    益可以預測哪些地點可能會有潛在的乘客"
   ]
  },
  {
   "cell_type": "code",
   "execution_count": null,
   "metadata": {},
   "outputs": [],
   "source": []
  }
 ],
 "metadata": {
  "anaconda-cloud": {},
  "kernelspec": {
   "display_name": "Python 3",
   "language": "python",
   "name": "python3"
  },
  "language_info": {
   "codemirror_mode": {
    "name": "ipython",
    "version": 3
   },
   "file_extension": ".py",
   "mimetype": "text/x-python",
   "name": "python",
   "nbconvert_exporter": "python",
   "pygments_lexer": "ipython3",
   "version": "3.7.6"
  }
 },
 "nbformat": 4,
 "nbformat_minor": 1
}
